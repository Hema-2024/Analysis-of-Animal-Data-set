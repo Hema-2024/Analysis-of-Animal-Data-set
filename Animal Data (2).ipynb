{
 "cells": [
  {
   "cell_type": "code",
   "execution_count": 116,
   "id": "273111e4",
   "metadata": {},
   "outputs": [],
   "source": [
    "import pandas as pd\n",
    "import matplotlib.pyplot as plt\n",
    "import seaborn as sns"
   ]
  },
  {
   "cell_type": "markdown",
   "id": "263011f4",
   "metadata": {},
   "source": [
    "## Studying data"
   ]
  },
  {
   "cell_type": "code",
   "execution_count": 117,
   "id": "fa64ad76",
   "metadata": {},
   "outputs": [
    {
     "data": {
      "text/html": [
       "<div>\n",
       "<style scoped>\n",
       "    .dataframe tbody tr th:only-of-type {\n",
       "        vertical-align: middle;\n",
       "    }\n",
       "\n",
       "    .dataframe tbody tr th {\n",
       "        vertical-align: top;\n",
       "    }\n",
       "\n",
       "    .dataframe thead th {\n",
       "        text-align: right;\n",
       "    }\n",
       "</style>\n",
       "<table border=\"1\" class=\"dataframe\">\n",
       "  <thead>\n",
       "    <tr style=\"text-align: right;\">\n",
       "      <th></th>\n",
       "      <th>bite_date</th>\n",
       "      <th>SpeciesIDDesc</th>\n",
       "      <th>BreedIDDesc</th>\n",
       "      <th>GenderIDDesc</th>\n",
       "      <th>color</th>\n",
       "      <th>vaccination_yrs</th>\n",
       "      <th>vaccination_date</th>\n",
       "      <th>victim_zip</th>\n",
       "      <th>AdvIssuedYNDesc</th>\n",
       "      <th>WhereBittenIDDesc</th>\n",
       "      <th>quarantine_date</th>\n",
       "      <th>DispositionIDDesc</th>\n",
       "      <th>head_sent_date</th>\n",
       "      <th>release_date</th>\n",
       "      <th>ResultsIDDesc</th>\n",
       "    </tr>\n",
       "  </thead>\n",
       "  <tbody>\n",
       "    <tr>\n",
       "      <th>8973</th>\n",
       "      <td>2017-08-30 00:00:00</td>\n",
       "      <td>DOG</td>\n",
       "      <td>GREAT DANE</td>\n",
       "      <td>FEMALE</td>\n",
       "      <td>BLACK</td>\n",
       "      <td>NaN</td>\n",
       "      <td>NaN</td>\n",
       "      <td>40212</td>\n",
       "      <td>NaN</td>\n",
       "      <td>BODY</td>\n",
       "      <td>NaN</td>\n",
       "      <td>NaN</td>\n",
       "      <td>NaN</td>\n",
       "      <td>NaN</td>\n",
       "      <td>NaN</td>\n",
       "    </tr>\n",
       "    <tr>\n",
       "      <th>8974</th>\n",
       "      <td>2017-08-30 00:00:00</td>\n",
       "      <td>CAT</td>\n",
       "      <td>NaN</td>\n",
       "      <td>MALE</td>\n",
       "      <td>NaN</td>\n",
       "      <td>NaN</td>\n",
       "      <td>NaN</td>\n",
       "      <td>40216</td>\n",
       "      <td>NaN</td>\n",
       "      <td>BODY</td>\n",
       "      <td>NaN</td>\n",
       "      <td>NaN</td>\n",
       "      <td>NaN</td>\n",
       "      <td>NaN</td>\n",
       "      <td>NaN</td>\n",
       "    </tr>\n",
       "    <tr>\n",
       "      <th>8975</th>\n",
       "      <td>2017-08-29 00:00:00</td>\n",
       "      <td>CAT</td>\n",
       "      <td>NaN</td>\n",
       "      <td>NaN</td>\n",
       "      <td>NaN</td>\n",
       "      <td>NaN</td>\n",
       "      <td>NaN</td>\n",
       "      <td>40223</td>\n",
       "      <td>NaN</td>\n",
       "      <td>BODY</td>\n",
       "      <td>NaN</td>\n",
       "      <td>NaN</td>\n",
       "      <td>NaN</td>\n",
       "      <td>NaN</td>\n",
       "      <td>NaN</td>\n",
       "    </tr>\n",
       "    <tr>\n",
       "      <th>8976</th>\n",
       "      <td>2017-08-31 00:00:00</td>\n",
       "      <td>DOG</td>\n",
       "      <td>PIT BULL</td>\n",
       "      <td>FEMALE</td>\n",
       "      <td>WHITE</td>\n",
       "      <td>NaN</td>\n",
       "      <td>NaN</td>\n",
       "      <td>40299</td>\n",
       "      <td>NaN</td>\n",
       "      <td>BODY</td>\n",
       "      <td>NaN</td>\n",
       "      <td>NaN</td>\n",
       "      <td>NaN</td>\n",
       "      <td>NaN</td>\n",
       "      <td>NaN</td>\n",
       "    </tr>\n",
       "    <tr>\n",
       "      <th>8977</th>\n",
       "      <td>2017-08-31 00:00:00</td>\n",
       "      <td>DOG</td>\n",
       "      <td>CORGI</td>\n",
       "      <td>MALE</td>\n",
       "      <td>BRN/WHITE</td>\n",
       "      <td>NaN</td>\n",
       "      <td>NaN</td>\n",
       "      <td>40214</td>\n",
       "      <td>NO</td>\n",
       "      <td>BODY</td>\n",
       "      <td>2017-09-01 00:00:00</td>\n",
       "      <td>NaN</td>\n",
       "      <td>NaN</td>\n",
       "      <td>NaN</td>\n",
       "      <td>NaN</td>\n",
       "    </tr>\n",
       "    <tr>\n",
       "      <th>8978</th>\n",
       "      <td>2017-08-31 00:00:00</td>\n",
       "      <td>DOG</td>\n",
       "      <td>NaN</td>\n",
       "      <td>FEMALE</td>\n",
       "      <td>WHITE</td>\n",
       "      <td>NaN</td>\n",
       "      <td>NaN</td>\n",
       "      <td>40241</td>\n",
       "      <td>YES</td>\n",
       "      <td>HEAD</td>\n",
       "      <td>NaN</td>\n",
       "      <td>NaN</td>\n",
       "      <td>NaN</td>\n",
       "      <td>NaN</td>\n",
       "      <td>NaN</td>\n",
       "    </tr>\n",
       "    <tr>\n",
       "      <th>8979</th>\n",
       "      <td>2017-09-01 00:00:00</td>\n",
       "      <td>DOG</td>\n",
       "      <td>NaN</td>\n",
       "      <td>MALE</td>\n",
       "      <td>BLK/WHT</td>\n",
       "      <td>NaN</td>\n",
       "      <td>NaN</td>\n",
       "      <td>40218</td>\n",
       "      <td>NO</td>\n",
       "      <td>BODY</td>\n",
       "      <td>2017-09-01 00:00:00</td>\n",
       "      <td>NaN</td>\n",
       "      <td>NaN</td>\n",
       "      <td>NaN</td>\n",
       "      <td>NaN</td>\n",
       "    </tr>\n",
       "    <tr>\n",
       "      <th>8980</th>\n",
       "      <td>2017-09-01 00:00:00</td>\n",
       "      <td>DOG</td>\n",
       "      <td>GOLDEN LAB</td>\n",
       "      <td>MALE</td>\n",
       "      <td>TAN ORG</td>\n",
       "      <td>NaN</td>\n",
       "      <td>NaN</td>\n",
       "      <td>40071</td>\n",
       "      <td>NaN</td>\n",
       "      <td>HEAD</td>\n",
       "      <td>NaN</td>\n",
       "      <td>NaN</td>\n",
       "      <td>NaN</td>\n",
       "      <td>NaN</td>\n",
       "      <td>NaN</td>\n",
       "    </tr>\n",
       "    <tr>\n",
       "      <th>8981</th>\n",
       "      <td>2017-09-03 00:00:00</td>\n",
       "      <td>DOG</td>\n",
       "      <td>NaN</td>\n",
       "      <td>MALE</td>\n",
       "      <td>BROWN</td>\n",
       "      <td>NaN</td>\n",
       "      <td>NaN</td>\n",
       "      <td>40207</td>\n",
       "      <td>NaN</td>\n",
       "      <td>HEAD</td>\n",
       "      <td>NaN</td>\n",
       "      <td>NaN</td>\n",
       "      <td>NaN</td>\n",
       "      <td>NaN</td>\n",
       "      <td>NaN</td>\n",
       "    </tr>\n",
       "    <tr>\n",
       "      <th>8982</th>\n",
       "      <td>2017-09-02 00:00:00</td>\n",
       "      <td>DOG</td>\n",
       "      <td>NaN</td>\n",
       "      <td>NaN</td>\n",
       "      <td>BLACK</td>\n",
       "      <td>NaN</td>\n",
       "      <td>NaN</td>\n",
       "      <td>40211</td>\n",
       "      <td>NaN</td>\n",
       "      <td>BODY</td>\n",
       "      <td>NaN</td>\n",
       "      <td>NaN</td>\n",
       "      <td>NaN</td>\n",
       "      <td>NaN</td>\n",
       "      <td>NaN</td>\n",
       "    </tr>\n",
       "    <tr>\n",
       "      <th>8983</th>\n",
       "      <td>2017-09-03 00:00:00</td>\n",
       "      <td>DOG</td>\n",
       "      <td>PIT BULL</td>\n",
       "      <td>MALE</td>\n",
       "      <td>BRN BLK</td>\n",
       "      <td>NaN</td>\n",
       "      <td>NaN</td>\n",
       "      <td>40243</td>\n",
       "      <td>NaN</td>\n",
       "      <td>HEAD</td>\n",
       "      <td>NaN</td>\n",
       "      <td>NaN</td>\n",
       "      <td>NaN</td>\n",
       "      <td>NaN</td>\n",
       "      <td>NaN</td>\n",
       "    </tr>\n",
       "    <tr>\n",
       "      <th>8984</th>\n",
       "      <td>2017-09-02 00:00:00</td>\n",
       "      <td>CAT</td>\n",
       "      <td>NaN</td>\n",
       "      <td>NaN</td>\n",
       "      <td>NaN</td>\n",
       "      <td>NaN</td>\n",
       "      <td>NaN</td>\n",
       "      <td>40291</td>\n",
       "      <td>NaN</td>\n",
       "      <td>UNKNOWN</td>\n",
       "      <td>NaN</td>\n",
       "      <td>NaN</td>\n",
       "      <td>NaN</td>\n",
       "      <td>NaN</td>\n",
       "      <td>NaN</td>\n",
       "    </tr>\n",
       "    <tr>\n",
       "      <th>8985</th>\n",
       "      <td>2017-09-03 00:00:00</td>\n",
       "      <td>DOG</td>\n",
       "      <td>MALTASE</td>\n",
       "      <td>FEMALE</td>\n",
       "      <td>WHTIE</td>\n",
       "      <td>NaN</td>\n",
       "      <td>NaN</td>\n",
       "      <td>40223</td>\n",
       "      <td>NaN</td>\n",
       "      <td>BODY</td>\n",
       "      <td>NaN</td>\n",
       "      <td>NaN</td>\n",
       "      <td>NaN</td>\n",
       "      <td>NaN</td>\n",
       "      <td>NaN</td>\n",
       "    </tr>\n",
       "    <tr>\n",
       "      <th>8986</th>\n",
       "      <td>2017-09-04 00:00:00</td>\n",
       "      <td>DOG</td>\n",
       "      <td>LABRADOR RETRIV</td>\n",
       "      <td>MALE</td>\n",
       "      <td>YELLOW</td>\n",
       "      <td>NaN</td>\n",
       "      <td>NaN</td>\n",
       "      <td>40207</td>\n",
       "      <td>NaN</td>\n",
       "      <td>HEAD</td>\n",
       "      <td>NaN</td>\n",
       "      <td>NaN</td>\n",
       "      <td>NaN</td>\n",
       "      <td>NaN</td>\n",
       "      <td>NaN</td>\n",
       "    </tr>\n",
       "    <tr>\n",
       "      <th>8987</th>\n",
       "      <td>2017-08-29 00:00:00</td>\n",
       "      <td>DOG</td>\n",
       "      <td>PIT BULL</td>\n",
       "      <td>MALE</td>\n",
       "      <td>BRN WHT</td>\n",
       "      <td>NaN</td>\n",
       "      <td>2015-05-19 00:00:00</td>\n",
       "      <td>40215</td>\n",
       "      <td>NaN</td>\n",
       "      <td>BODY</td>\n",
       "      <td>NaN</td>\n",
       "      <td>NaN</td>\n",
       "      <td>NaN</td>\n",
       "      <td>NaN</td>\n",
       "      <td>NaN</td>\n",
       "    </tr>\n",
       "    <tr>\n",
       "      <th>8988</th>\n",
       "      <td>2017-09-02 00:00:00</td>\n",
       "      <td>DOG</td>\n",
       "      <td>PIT BULL</td>\n",
       "      <td>MALE</td>\n",
       "      <td>BROWN</td>\n",
       "      <td>NaN</td>\n",
       "      <td>NaN</td>\n",
       "      <td>40212</td>\n",
       "      <td>NaN</td>\n",
       "      <td>BODY</td>\n",
       "      <td>NaN</td>\n",
       "      <td>NaN</td>\n",
       "      <td>NaN</td>\n",
       "      <td>NaN</td>\n",
       "      <td>NaN</td>\n",
       "    </tr>\n",
       "    <tr>\n",
       "      <th>8989</th>\n",
       "      <td>2017-09-02 00:00:00</td>\n",
       "      <td>DOG</td>\n",
       "      <td>NaN</td>\n",
       "      <td>MALE</td>\n",
       "      <td>BRONW</td>\n",
       "      <td>NaN</td>\n",
       "      <td>NaN</td>\n",
       "      <td>40218</td>\n",
       "      <td>NaN</td>\n",
       "      <td>BODY</td>\n",
       "      <td>NaN</td>\n",
       "      <td>NaN</td>\n",
       "      <td>NaN</td>\n",
       "      <td>NaN</td>\n",
       "      <td>NaN</td>\n",
       "    </tr>\n",
       "    <tr>\n",
       "      <th>8990</th>\n",
       "      <td>2017-09-03 00:00:00</td>\n",
       "      <td>DOG</td>\n",
       "      <td>PIT BULL</td>\n",
       "      <td>FEMALE</td>\n",
       "      <td>BROWN</td>\n",
       "      <td>NaN</td>\n",
       "      <td>NaN</td>\n",
       "      <td>40258</td>\n",
       "      <td>NaN</td>\n",
       "      <td>BODY</td>\n",
       "      <td>NaN</td>\n",
       "      <td>NaN</td>\n",
       "      <td>NaN</td>\n",
       "      <td>NaN</td>\n",
       "      <td>NaN</td>\n",
       "    </tr>\n",
       "    <tr>\n",
       "      <th>8991</th>\n",
       "      <td>2017-09-04 00:00:00</td>\n",
       "      <td>DOG</td>\n",
       "      <td>AAUST. TERR.</td>\n",
       "      <td>MALE</td>\n",
       "      <td>BLK WHT</td>\n",
       "      <td>NaN</td>\n",
       "      <td>NaN</td>\n",
       "      <td>40118</td>\n",
       "      <td>NaN</td>\n",
       "      <td>BODY</td>\n",
       "      <td>NaN</td>\n",
       "      <td>NaN</td>\n",
       "      <td>NaN</td>\n",
       "      <td>NaN</td>\n",
       "      <td>NaN</td>\n",
       "    </tr>\n",
       "    <tr>\n",
       "      <th>8992</th>\n",
       "      <td>2017-09-05 00:00:00</td>\n",
       "      <td>DOG</td>\n",
       "      <td>PIT BULL</td>\n",
       "      <td>NaN</td>\n",
       "      <td>WHITE</td>\n",
       "      <td>NaN</td>\n",
       "      <td>NaN</td>\n",
       "      <td>40207</td>\n",
       "      <td>NaN</td>\n",
       "      <td>BODY</td>\n",
       "      <td>NaN</td>\n",
       "      <td>NaN</td>\n",
       "      <td>NaN</td>\n",
       "      <td>NaN</td>\n",
       "      <td>NaN</td>\n",
       "    </tr>\n",
       "    <tr>\n",
       "      <th>8993</th>\n",
       "      <td>2017-09-04 00:00:00</td>\n",
       "      <td>DOG</td>\n",
       "      <td>CANE CORSO</td>\n",
       "      <td>MALE</td>\n",
       "      <td>BLACK</td>\n",
       "      <td>NaN</td>\n",
       "      <td>NaN</td>\n",
       "      <td>40219</td>\n",
       "      <td>NaN</td>\n",
       "      <td>BODY</td>\n",
       "      <td>NaN</td>\n",
       "      <td>NaN</td>\n",
       "      <td>NaN</td>\n",
       "      <td>NaN</td>\n",
       "      <td>NaN</td>\n",
       "    </tr>\n",
       "    <tr>\n",
       "      <th>8994</th>\n",
       "      <td>2017-09-04 00:00:00</td>\n",
       "      <td>CAT</td>\n",
       "      <td>NaN</td>\n",
       "      <td>MALE</td>\n",
       "      <td>NaN</td>\n",
       "      <td>NaN</td>\n",
       "      <td>NaN</td>\n",
       "      <td>40206</td>\n",
       "      <td>NaN</td>\n",
       "      <td>UNKNOWN</td>\n",
       "      <td>NaN</td>\n",
       "      <td>NaN</td>\n",
       "      <td>NaN</td>\n",
       "      <td>NaN</td>\n",
       "      <td>NaN</td>\n",
       "    </tr>\n",
       "    <tr>\n",
       "      <th>8995</th>\n",
       "      <td>2017-09-04 00:00:00</td>\n",
       "      <td>DOG</td>\n",
       "      <td>BLACK LAB</td>\n",
       "      <td>MALE</td>\n",
       "      <td>BLACK</td>\n",
       "      <td>NaN</td>\n",
       "      <td>NaN</td>\n",
       "      <td>40229</td>\n",
       "      <td>NaN</td>\n",
       "      <td>BODY</td>\n",
       "      <td>NaN</td>\n",
       "      <td>NaN</td>\n",
       "      <td>NaN</td>\n",
       "      <td>NaN</td>\n",
       "      <td>NaN</td>\n",
       "    </tr>\n",
       "    <tr>\n",
       "      <th>8996</th>\n",
       "      <td>2017-09-04 00:00:00</td>\n",
       "      <td>DOG</td>\n",
       "      <td>NaN</td>\n",
       "      <td>NaN</td>\n",
       "      <td>NaN</td>\n",
       "      <td>NaN</td>\n",
       "      <td>NaN</td>\n",
       "      <td>40214</td>\n",
       "      <td>NaN</td>\n",
       "      <td>BODY</td>\n",
       "      <td>NaN</td>\n",
       "      <td>NaN</td>\n",
       "      <td>NaN</td>\n",
       "      <td>NaN</td>\n",
       "      <td>NaN</td>\n",
       "    </tr>\n",
       "    <tr>\n",
       "      <th>8997</th>\n",
       "      <td>2017-09-06 00:00:00</td>\n",
       "      <td>DOG</td>\n",
       "      <td>CHICHAUHUA</td>\n",
       "      <td>FEMALE</td>\n",
       "      <td>TAN</td>\n",
       "      <td>NaN</td>\n",
       "      <td>NaN</td>\n",
       "      <td>40206</td>\n",
       "      <td>NaN</td>\n",
       "      <td>HEAD</td>\n",
       "      <td>NaN</td>\n",
       "      <td>NaN</td>\n",
       "      <td>NaN</td>\n",
       "      <td>NaN</td>\n",
       "      <td>NaN</td>\n",
       "    </tr>\n",
       "    <tr>\n",
       "      <th>8998</th>\n",
       "      <td>2017-09-05 00:00:00</td>\n",
       "      <td>DOG</td>\n",
       "      <td>NaN</td>\n",
       "      <td>NaN</td>\n",
       "      <td>NaN</td>\n",
       "      <td>NaN</td>\n",
       "      <td>NaN</td>\n",
       "      <td>40243</td>\n",
       "      <td>NaN</td>\n",
       "      <td>UNKNOWN</td>\n",
       "      <td>NaN</td>\n",
       "      <td>NaN</td>\n",
       "      <td>NaN</td>\n",
       "      <td>NaN</td>\n",
       "      <td>NaN</td>\n",
       "    </tr>\n",
       "    <tr>\n",
       "      <th>8999</th>\n",
       "      <td>2017-09-07 00:00:00</td>\n",
       "      <td>DOG</td>\n",
       "      <td>POMERANIAN</td>\n",
       "      <td>MALE</td>\n",
       "      <td>RED</td>\n",
       "      <td>NaN</td>\n",
       "      <td>NaN</td>\n",
       "      <td>40204</td>\n",
       "      <td>NaN</td>\n",
       "      <td>HEAD</td>\n",
       "      <td>NaN</td>\n",
       "      <td>NaN</td>\n",
       "      <td>NaN</td>\n",
       "      <td>NaN</td>\n",
       "      <td>NaN</td>\n",
       "    </tr>\n",
       "    <tr>\n",
       "      <th>9000</th>\n",
       "      <td>2017-09-07 00:00:00</td>\n",
       "      <td>DOG</td>\n",
       "      <td>LABRADOR RETRIV</td>\n",
       "      <td>MALE</td>\n",
       "      <td>BROWN</td>\n",
       "      <td>NaN</td>\n",
       "      <td>NaN</td>\n",
       "      <td>47130</td>\n",
       "      <td>NaN</td>\n",
       "      <td>UNKNOWN</td>\n",
       "      <td>NaN</td>\n",
       "      <td>NaN</td>\n",
       "      <td>NaN</td>\n",
       "      <td>NaN</td>\n",
       "      <td>NaN</td>\n",
       "    </tr>\n",
       "    <tr>\n",
       "      <th>9001</th>\n",
       "      <td>2017-09-07 00:00:00</td>\n",
       "      <td>DOG</td>\n",
       "      <td>LABRADOR RETRIV</td>\n",
       "      <td>FEMALE</td>\n",
       "      <td>BLK WHT</td>\n",
       "      <td>NaN</td>\n",
       "      <td>NaN</td>\n",
       "      <td>40229</td>\n",
       "      <td>NaN</td>\n",
       "      <td>BODY</td>\n",
       "      <td>NaN</td>\n",
       "      <td>NaN</td>\n",
       "      <td>NaN</td>\n",
       "      <td>NaN</td>\n",
       "      <td>NaN</td>\n",
       "    </tr>\n",
       "    <tr>\n",
       "      <th>9002</th>\n",
       "      <td>2017-09-07 00:00:00</td>\n",
       "      <td>DOG</td>\n",
       "      <td>BOXER</td>\n",
       "      <td>NaN</td>\n",
       "      <td>BRN BLK</td>\n",
       "      <td>NaN</td>\n",
       "      <td>NaN</td>\n",
       "      <td>40229</td>\n",
       "      <td>NaN</td>\n",
       "      <td>BODY</td>\n",
       "      <td>NaN</td>\n",
       "      <td>NaN</td>\n",
       "      <td>NaN</td>\n",
       "      <td>NaN</td>\n",
       "      <td>NaN</td>\n",
       "    </tr>\n",
       "  </tbody>\n",
       "</table>\n",
       "</div>"
      ],
      "text/plain": [
       "                bite_date SpeciesIDDesc      BreedIDDesc GenderIDDesc  \\\n",
       "8973  2017-08-30 00:00:00           DOG       GREAT DANE       FEMALE   \n",
       "8974  2017-08-30 00:00:00           CAT              NaN         MALE   \n",
       "8975  2017-08-29 00:00:00           CAT              NaN          NaN   \n",
       "8976  2017-08-31 00:00:00           DOG         PIT BULL       FEMALE   \n",
       "8977  2017-08-31 00:00:00           DOG            CORGI         MALE   \n",
       "8978  2017-08-31 00:00:00           DOG              NaN       FEMALE   \n",
       "8979  2017-09-01 00:00:00           DOG              NaN         MALE   \n",
       "8980  2017-09-01 00:00:00           DOG       GOLDEN LAB         MALE   \n",
       "8981  2017-09-03 00:00:00           DOG              NaN         MALE   \n",
       "8982  2017-09-02 00:00:00           DOG              NaN          NaN   \n",
       "8983  2017-09-03 00:00:00           DOG         PIT BULL         MALE   \n",
       "8984  2017-09-02 00:00:00           CAT              NaN          NaN   \n",
       "8985  2017-09-03 00:00:00           DOG          MALTASE       FEMALE   \n",
       "8986  2017-09-04 00:00:00           DOG  LABRADOR RETRIV         MALE   \n",
       "8987  2017-08-29 00:00:00           DOG         PIT BULL         MALE   \n",
       "8988  2017-09-02 00:00:00           DOG         PIT BULL         MALE   \n",
       "8989  2017-09-02 00:00:00           DOG              NaN         MALE   \n",
       "8990  2017-09-03 00:00:00           DOG         PIT BULL       FEMALE   \n",
       "8991  2017-09-04 00:00:00           DOG     AAUST. TERR.         MALE   \n",
       "8992  2017-09-05 00:00:00           DOG         PIT BULL          NaN   \n",
       "8993  2017-09-04 00:00:00           DOG       CANE CORSO         MALE   \n",
       "8994  2017-09-04 00:00:00           CAT              NaN         MALE   \n",
       "8995  2017-09-04 00:00:00           DOG        BLACK LAB         MALE   \n",
       "8996  2017-09-04 00:00:00           DOG              NaN          NaN   \n",
       "8997  2017-09-06 00:00:00           DOG       CHICHAUHUA       FEMALE   \n",
       "8998  2017-09-05 00:00:00           DOG              NaN          NaN   \n",
       "8999  2017-09-07 00:00:00           DOG       POMERANIAN         MALE   \n",
       "9000  2017-09-07 00:00:00           DOG  LABRADOR RETRIV         MALE   \n",
       "9001  2017-09-07 00:00:00           DOG  LABRADOR RETRIV       FEMALE   \n",
       "9002  2017-09-07 00:00:00           DOG            BOXER          NaN   \n",
       "\n",
       "          color  vaccination_yrs     vaccination_date victim_zip  \\\n",
       "8973      BLACK              NaN                  NaN      40212   \n",
       "8974        NaN              NaN                  NaN      40216   \n",
       "8975        NaN              NaN                  NaN      40223   \n",
       "8976      WHITE              NaN                  NaN      40299   \n",
       "8977  BRN/WHITE              NaN                  NaN      40214   \n",
       "8978      WHITE              NaN                  NaN      40241   \n",
       "8979    BLK/WHT              NaN                  NaN      40218   \n",
       "8980    TAN ORG              NaN                  NaN      40071   \n",
       "8981      BROWN              NaN                  NaN      40207   \n",
       "8982      BLACK              NaN                  NaN      40211   \n",
       "8983    BRN BLK              NaN                  NaN      40243   \n",
       "8984        NaN              NaN                  NaN      40291   \n",
       "8985      WHTIE              NaN                  NaN      40223   \n",
       "8986     YELLOW              NaN                  NaN      40207   \n",
       "8987    BRN WHT              NaN  2015-05-19 00:00:00      40215   \n",
       "8988      BROWN              NaN                  NaN      40212   \n",
       "8989      BRONW              NaN                  NaN      40218   \n",
       "8990      BROWN              NaN                  NaN      40258   \n",
       "8991    BLK WHT              NaN                  NaN      40118   \n",
       "8992      WHITE              NaN                  NaN      40207   \n",
       "8993      BLACK              NaN                  NaN      40219   \n",
       "8994        NaN              NaN                  NaN      40206   \n",
       "8995      BLACK              NaN                  NaN      40229   \n",
       "8996        NaN              NaN                  NaN      40214   \n",
       "8997        TAN              NaN                  NaN      40206   \n",
       "8998        NaN              NaN                  NaN      40243   \n",
       "8999        RED              NaN                  NaN      40204   \n",
       "9000      BROWN              NaN                  NaN      47130   \n",
       "9001    BLK WHT              NaN                  NaN      40229   \n",
       "9002    BRN BLK              NaN                  NaN      40229   \n",
       "\n",
       "     AdvIssuedYNDesc WhereBittenIDDesc      quarantine_date DispositionIDDesc  \\\n",
       "8973             NaN              BODY                  NaN               NaN   \n",
       "8974             NaN              BODY                  NaN               NaN   \n",
       "8975             NaN              BODY                  NaN               NaN   \n",
       "8976             NaN              BODY                  NaN               NaN   \n",
       "8977              NO              BODY  2017-09-01 00:00:00               NaN   \n",
       "8978             YES              HEAD                  NaN               NaN   \n",
       "8979              NO              BODY  2017-09-01 00:00:00               NaN   \n",
       "8980             NaN              HEAD                  NaN               NaN   \n",
       "8981             NaN              HEAD                  NaN               NaN   \n",
       "8982             NaN              BODY                  NaN               NaN   \n",
       "8983             NaN              HEAD                  NaN               NaN   \n",
       "8984             NaN           UNKNOWN                  NaN               NaN   \n",
       "8985             NaN              BODY                  NaN               NaN   \n",
       "8986             NaN              HEAD                  NaN               NaN   \n",
       "8987             NaN              BODY                  NaN               NaN   \n",
       "8988             NaN              BODY                  NaN               NaN   \n",
       "8989             NaN              BODY                  NaN               NaN   \n",
       "8990             NaN              BODY                  NaN               NaN   \n",
       "8991             NaN              BODY                  NaN               NaN   \n",
       "8992             NaN              BODY                  NaN               NaN   \n",
       "8993             NaN              BODY                  NaN               NaN   \n",
       "8994             NaN           UNKNOWN                  NaN               NaN   \n",
       "8995             NaN              BODY                  NaN               NaN   \n",
       "8996             NaN              BODY                  NaN               NaN   \n",
       "8997             NaN              HEAD                  NaN               NaN   \n",
       "8998             NaN           UNKNOWN                  NaN               NaN   \n",
       "8999             NaN              HEAD                  NaN               NaN   \n",
       "9000             NaN           UNKNOWN                  NaN               NaN   \n",
       "9001             NaN              BODY                  NaN               NaN   \n",
       "9002             NaN              BODY                  NaN               NaN   \n",
       "\n",
       "     head_sent_date release_date ResultsIDDesc  \n",
       "8973            NaN          NaN           NaN  \n",
       "8974            NaN          NaN           NaN  \n",
       "8975            NaN          NaN           NaN  \n",
       "8976            NaN          NaN           NaN  \n",
       "8977            NaN          NaN           NaN  \n",
       "8978            NaN          NaN           NaN  \n",
       "8979            NaN          NaN           NaN  \n",
       "8980            NaN          NaN           NaN  \n",
       "8981            NaN          NaN           NaN  \n",
       "8982            NaN          NaN           NaN  \n",
       "8983            NaN          NaN           NaN  \n",
       "8984            NaN          NaN           NaN  \n",
       "8985            NaN          NaN           NaN  \n",
       "8986            NaN          NaN           NaN  \n",
       "8987            NaN          NaN           NaN  \n",
       "8988            NaN          NaN           NaN  \n",
       "8989            NaN          NaN           NaN  \n",
       "8990            NaN          NaN           NaN  \n",
       "8991            NaN          NaN           NaN  \n",
       "8992            NaN          NaN           NaN  \n",
       "8993            NaN          NaN           NaN  \n",
       "8994            NaN          NaN           NaN  \n",
       "8995            NaN          NaN           NaN  \n",
       "8996            NaN          NaN           NaN  \n",
       "8997            NaN          NaN           NaN  \n",
       "8998            NaN          NaN           NaN  \n",
       "8999            NaN          NaN           NaN  \n",
       "9000            NaN          NaN           NaN  \n",
       "9001            NaN          NaN           NaN  \n",
       "9002            NaN          NaN           NaN  "
      ]
     },
     "execution_count": 117,
     "metadata": {},
     "output_type": "execute_result"
    }
   ],
   "source": [
    "df=pd.read_csv(\"Health_AnimalBites.csv\")\n",
    "df.tail(30)"
   ]
  },
  {
   "cell_type": "code",
   "execution_count": 118,
   "id": "e8999ac7",
   "metadata": {},
   "outputs": [
    {
     "name": "stdout",
     "output_type": "stream",
     "text": [
      "<class 'pandas.core.frame.DataFrame'>\n",
      "RangeIndex: 9003 entries, 0 to 9002\n",
      "Data columns (total 15 columns):\n",
      " #   Column             Non-Null Count  Dtype  \n",
      "---  ------             --------------  -----  \n",
      " 0   bite_date          8686 non-null   object \n",
      " 1   SpeciesIDDesc      8885 non-null   object \n",
      " 2   BreedIDDesc        3759 non-null   object \n",
      " 3   GenderIDDesc       6477 non-null   object \n",
      " 4   color              6426 non-null   object \n",
      " 5   vaccination_yrs    3738 non-null   float64\n",
      " 6   vaccination_date   4115 non-null   object \n",
      " 7   victim_zip         7165 non-null   object \n",
      " 8   AdvIssuedYNDesc    2565 non-null   object \n",
      " 9   WhereBittenIDDesc  8387 non-null   object \n",
      " 10  quarantine_date    2020 non-null   object \n",
      " 11  DispositionIDDesc  1535 non-null   object \n",
      " 12  head_sent_date     395 non-null    object \n",
      " 13  release_date       1445 non-null   object \n",
      " 14  ResultsIDDesc      1543 non-null   object \n",
      "dtypes: float64(1), object(14)\n",
      "memory usage: 1.0+ MB\n"
     ]
    }
   ],
   "source": [
    "df.info()"
   ]
  },
  {
   "cell_type": "code",
   "execution_count": 119,
   "id": "d1c666b6",
   "metadata": {},
   "outputs": [
    {
     "data": {
      "text/html": [
       "<div>\n",
       "<style scoped>\n",
       "    .dataframe tbody tr th:only-of-type {\n",
       "        vertical-align: middle;\n",
       "    }\n",
       "\n",
       "    .dataframe tbody tr th {\n",
       "        vertical-align: top;\n",
       "    }\n",
       "\n",
       "    .dataframe thead th {\n",
       "        text-align: right;\n",
       "    }\n",
       "</style>\n",
       "<table border=\"1\" class=\"dataframe\">\n",
       "  <thead>\n",
       "    <tr style=\"text-align: right;\">\n",
       "      <th></th>\n",
       "      <th>vaccination_yrs</th>\n",
       "    </tr>\n",
       "  </thead>\n",
       "  <tbody>\n",
       "    <tr>\n",
       "      <th>count</th>\n",
       "      <td>3738.000000</td>\n",
       "    </tr>\n",
       "    <tr>\n",
       "      <th>mean</th>\n",
       "      <td>1.452113</td>\n",
       "    </tr>\n",
       "    <tr>\n",
       "      <th>std</th>\n",
       "      <td>0.848416</td>\n",
       "    </tr>\n",
       "    <tr>\n",
       "      <th>min</th>\n",
       "      <td>1.000000</td>\n",
       "    </tr>\n",
       "    <tr>\n",
       "      <th>25%</th>\n",
       "      <td>1.000000</td>\n",
       "    </tr>\n",
       "    <tr>\n",
       "      <th>50%</th>\n",
       "      <td>1.000000</td>\n",
       "    </tr>\n",
       "    <tr>\n",
       "      <th>75%</th>\n",
       "      <td>1.000000</td>\n",
       "    </tr>\n",
       "    <tr>\n",
       "      <th>max</th>\n",
       "      <td>11.000000</td>\n",
       "    </tr>\n",
       "  </tbody>\n",
       "</table>\n",
       "</div>"
      ],
      "text/plain": [
       "       vaccination_yrs\n",
       "count      3738.000000\n",
       "mean          1.452113\n",
       "std           0.848416\n",
       "min           1.000000\n",
       "25%           1.000000\n",
       "50%           1.000000\n",
       "75%           1.000000\n",
       "max          11.000000"
      ]
     },
     "execution_count": 119,
     "metadata": {},
     "output_type": "execute_result"
    }
   ],
   "source": [
    "df.describe()"
   ]
  },
  {
   "cell_type": "code",
   "execution_count": 120,
   "id": "ef30284e",
   "metadata": {},
   "outputs": [
    {
     "data": {
      "text/plain": [
       "bite_date             317\n",
       "SpeciesIDDesc         118\n",
       "BreedIDDesc          5244\n",
       "GenderIDDesc         2526\n",
       "color                2577\n",
       "vaccination_yrs      5265\n",
       "vaccination_date     4888\n",
       "victim_zip           1838\n",
       "AdvIssuedYNDesc      6438\n",
       "WhereBittenIDDesc     616\n",
       "quarantine_date      6983\n",
       "DispositionIDDesc    7468\n",
       "head_sent_date       8608\n",
       "release_date         7558\n",
       "ResultsIDDesc        7460\n",
       "dtype: int64"
      ]
     },
     "execution_count": 120,
     "metadata": {},
     "output_type": "execute_result"
    }
   ],
   "source": [
    "df.isnull().sum()"
   ]
  },
  {
   "cell_type": "markdown",
   "id": "a4302ddf",
   "metadata": {},
   "source": [
    "# Wanted To know in which month or year more animal bites took place"
   ]
  },
  {
   "cell_type": "code",
   "execution_count": null,
   "id": "ac8935fb",
   "metadata": {},
   "outputs": [],
   "source": []
  },
  {
   "cell_type": "code",
   "execution_count": 121,
   "id": "b1bed89f",
   "metadata": {},
   "outputs": [
    {
     "data": {
      "text/plain": [
       "0       1985-05-05 00:00:00\n",
       "1       1986-02-12 00:00:00\n",
       "2       1987-05-07 00:00:00\n",
       "3       1988-10-02 00:00:00\n",
       "4       1989-08-29 00:00:00\n",
       "               ...         \n",
       "8998    2017-09-05 00:00:00\n",
       "8999    2017-09-07 00:00:00\n",
       "9000    2017-09-07 00:00:00\n",
       "9001    2017-09-07 00:00:00\n",
       "9002    2017-09-07 00:00:00\n",
       "Name: bite_date, Length: 9003, dtype: object"
      ]
     },
     "execution_count": 121,
     "metadata": {},
     "output_type": "execute_result"
    }
   ],
   "source": [
    "df[\"bite_date\"]"
   ]
  },
  {
   "cell_type": "code",
   "execution_count": 122,
   "id": "ea76a28c",
   "metadata": {},
   "outputs": [],
   "source": [
    "df[\"bite_date\"]=df[\"bite_date\"].fillna(\"1952-05-28 00:00:00\")"
   ]
  },
  {
   "cell_type": "code",
   "execution_count": 123,
   "id": "ebee64f3",
   "metadata": {},
   "outputs": [
    {
     "data": {
      "text/plain": [
       "0"
      ]
     },
     "execution_count": 123,
     "metadata": {},
     "output_type": "execute_result"
    }
   ],
   "source": [
    "df[\"bite_date\"].isnull().sum()"
   ]
  },
  {
   "cell_type": "code",
   "execution_count": 124,
   "id": "b4850a1e",
   "metadata": {},
   "outputs": [],
   "source": [
    "df[\"bite_date\"] = df[\"bite_date\"].replace(\"5013-07-15 00:00:00\",\"2013-07-15 00:00:00\")"
   ]
  },
  {
   "cell_type": "code",
   "execution_count": 125,
   "id": "142d306f",
   "metadata": {},
   "outputs": [],
   "source": [
    "import datetime"
   ]
  },
  {
   "cell_type": "code",
   "execution_count": 126,
   "id": "14e6beca",
   "metadata": {},
   "outputs": [
    {
     "name": "stdout",
     "output_type": "stream",
     "text": [
      "object\n"
     ]
    }
   ],
   "source": [
    "print(df[\"bite_date\"].dtypes)"
   ]
  },
  {
   "cell_type": "code",
   "execution_count": 127,
   "id": "e80dea08",
   "metadata": {},
   "outputs": [
    {
     "data": {
      "text/plain": [
       "0      1985-05-05\n",
       "1      1986-02-12\n",
       "2      1987-05-07\n",
       "3      1988-10-02\n",
       "4      1989-08-29\n",
       "          ...    \n",
       "8998   2017-09-05\n",
       "8999   2017-09-07\n",
       "9000   2017-09-07\n",
       "9001   2017-09-07\n",
       "9002   2017-09-07\n",
       "Name: bite_date, Length: 9003, dtype: datetime64[ns]"
      ]
     },
     "execution_count": 127,
     "metadata": {},
     "output_type": "execute_result"
    }
   ],
   "source": [
    "df[\"bite_date\"]=pd.to_datetime(df[\"bite_date\"],format=\"%Y-%m-%d %H:%M:%S\")\n",
    "df[\"bite_date\"]"
   ]
  },
  {
   "cell_type": "code",
   "execution_count": 128,
   "id": "f6b5fa7c",
   "metadata": {},
   "outputs": [
    {
     "data": {
      "text/plain": [
       "30"
      ]
     },
     "execution_count": 128,
     "metadata": {},
     "output_type": "execute_result"
    }
   ],
   "source": [
    "df[\"bite\"]=df['bite_date'].apply(lambda x:x.strftime('%Y'))\n",
    "x=df[\"bite\"]\n",
    "df[\"bite\"].nunique()"
   ]
  },
  {
   "cell_type": "code",
   "execution_count": 129,
   "id": "2871c47f",
   "metadata": {
    "scrolled": true
   },
   "outputs": [
    {
     "data": {
      "text/plain": [
       "<AxesSubplot:>"
      ]
     },
     "execution_count": 129,
     "metadata": {},
     "output_type": "execute_result"
    },
    {
     "data": {
      "image/png": "[encoded data removed]",
      "text/plain": [
       "<Figure size 432x288 with 1 Axes>"
      ]
     },
     "metadata": {
      "needs_background": "light"
     },
     "output_type": "display_data"
    }
   ],
   "source": [
    "df[\"bite\"].value_counts().plot.bar()"
   ]
  },
  {
   "cell_type": "code",
   "execution_count": 130,
   "id": "626e6612",
   "metadata": {},
   "outputs": [],
   "source": [
    "df[\"month\"] = df['bite_date'].apply(lambda x:x.strftime('%m'))"
   ]
  },
  {
   "cell_type": "code",
   "execution_count": 131,
   "id": "71035ed0",
   "metadata": {},
   "outputs": [
    {
     "data": {
      "image/png": "[encoded data removed]",
      "text/plain": [
       "<Figure size 432x288 with 1 Axes>"
      ]
     },
     "metadata": {},
     "output_type": "display_data"
    }
   ],
   "source": [
    "df[\"month\"].value_counts().plot.pie()\n",
    "plt.show()"
   ]
  },
  {
   "cell_type": "markdown",
   "id": "96bf928f",
   "metadata": {},
   "source": [
    "# Unique species "
   ]
  },
  {
   "cell_type": "code",
   "execution_count": 132,
   "id": "67dce46c",
   "metadata": {},
   "outputs": [],
   "source": [
    "x=df[\"SpeciesIDDesc\"].value_counts()"
   ]
  },
  {
   "cell_type": "code",
   "execution_count": 133,
   "id": "d57c3ab1",
   "metadata": {},
   "outputs": [
    {
     "data": {
      "text/plain": [
       "9"
      ]
     },
     "execution_count": 133,
     "metadata": {},
     "output_type": "execute_result"
    }
   ],
   "source": [
    "df[\"SpeciesIDDesc\"].nunique()"
   ]
  },
  {
   "cell_type": "code",
   "execution_count": 134,
   "id": "97b657fb",
   "metadata": {
    "scrolled": true
   },
   "outputs": [
    {
     "data": {
      "text/plain": [
       "<AxesSubplot:>"
      ]
     },
     "execution_count": 134,
     "metadata": {},
     "output_type": "execute_result"
    },
    {
     "data": {
      "image/png": "[encoded data removed]",
      "text/plain": [
       "<Figure size 432x288 with 1 Axes>"
      ]
     },
     "metadata": {
      "needs_background": "light"
     },
     "output_type": "display_data"
    }
   ],
   "source": [
    "x.plot.bar()"
   ]
  },
  {
   "cell_type": "markdown",
   "id": "bf05147d",
   "metadata": {},
   "source": [
    "# Wanted to know the gender ratio of animals"
   ]
  },
  {
   "cell_type": "code",
   "execution_count": 135,
   "id": "5a42b1f0",
   "metadata": {},
   "outputs": [
    {
     "data": {
      "text/plain": [
       "2526"
      ]
     },
     "execution_count": 135,
     "metadata": {},
     "output_type": "execute_result"
    }
   ],
   "source": [
    "df[\"GenderIDDesc\"].isnull().sum()"
   ]
  },
  {
   "cell_type": "code",
   "execution_count": 136,
   "id": "3be1bd45",
   "metadata": {},
   "outputs": [],
   "source": [
    "df[\"GenderIDDesc\"]=df[\"GenderIDDesc\"].fillna(\"UNKNOWN\")"
   ]
  },
  {
   "cell_type": "code",
   "execution_count": 137,
   "id": "4425c0f5",
   "metadata": {},
   "outputs": [
    {
     "data": {
      "text/plain": [
       "0"
      ]
     },
     "execution_count": 137,
     "metadata": {},
     "output_type": "execute_result"
    }
   ],
   "source": [
    "df[\"GenderIDDesc\"].isnull().sum()"
   ]
  },
  {
   "cell_type": "code",
   "execution_count": 138,
   "id": "4d4ba626",
   "metadata": {},
   "outputs": [
    {
     "data": {
      "text/plain": [
       "0        FEMALE\n",
       "1       UNKNOWN\n",
       "2       UNKNOWN\n",
       "3          MALE\n",
       "4        FEMALE\n",
       "         ...   \n",
       "8998    UNKNOWN\n",
       "8999       MALE\n",
       "9000       MALE\n",
       "9001     FEMALE\n",
       "9002    UNKNOWN\n",
       "Name: GenderIDDesc, Length: 9003, dtype: object"
      ]
     },
     "execution_count": 138,
     "metadata": {},
     "output_type": "execute_result"
    }
   ],
   "source": [
    "df[\"GenderIDDesc\"]"
   ]
  },
  {
   "cell_type": "code",
   "execution_count": 139,
   "id": "a69d8051",
   "metadata": {},
   "outputs": [],
   "source": [
    "y=df[\"GenderIDDesc\"]\n",
    "x=df[\"GenderIDDesc\"].value_counts()"
   ]
  },
  {
   "cell_type": "code",
   "execution_count": 140,
   "id": "ebfc8e0a",
   "metadata": {},
   "outputs": [
    {
     "data": {
      "text/plain": [
       "<AxesSubplot:xlabel='count', ylabel='GenderIDDesc'>"
      ]
     },
     "execution_count": 140,
     "metadata": {},
     "output_type": "execute_result"
    },
    {
     "data": {
      "image/png": "[encoded data removed]",
      "text/plain": [
       "<Figure size 432x288 with 1 Axes>"
      ]
     },
     "metadata": {
      "needs_background": "light"
     },
     "output_type": "display_data"
    }
   ],
   "source": [
    "sns.countplot(y=df[\"GenderIDDesc\"])"
   ]
  },
  {
   "cell_type": "code",
   "execution_count": 141,
   "id": "5a677c04",
   "metadata": {},
   "outputs": [
    {
     "data": {
      "text/plain": [
       "BODY       6213\n",
       "HEAD       1244\n",
       "UNKNOWN     930\n",
       "Name: WhereBittenIDDesc, dtype: int64"
      ]
     },
     "execution_count": 141,
     "metadata": {},
     "output_type": "execute_result"
    }
   ],
   "source": [
    "df[\"WhereBittenIDDesc\"].value_counts()"
   ]
  },
  {
   "cell_type": "code",
   "execution_count": 142,
   "id": "48406e7f",
   "metadata": {},
   "outputs": [
    {
     "data": {
      "text/plain": [
       "616"
      ]
     },
     "execution_count": 142,
     "metadata": {},
     "output_type": "execute_result"
    }
   ],
   "source": [
    "df[\"WhereBittenIDDesc\"].isnull().sum()"
   ]
  },
  {
   "cell_type": "code",
   "execution_count": 143,
   "id": "824b99e0",
   "metadata": {},
   "outputs": [
    {
     "data": {
      "text/plain": [
       "BODY       6213\n",
       "HEAD       1244\n",
       "UNKNOWN     930\n",
       "Name: WhereBittenIDDesc, dtype: int64"
      ]
     },
     "execution_count": 143,
     "metadata": {},
     "output_type": "execute_result"
    }
   ],
   "source": [
    "df[\"WhereBittenIDDesc\"].value_counts()"
   ]
  },
  {
   "cell_type": "markdown",
   "id": "a2d6f05e",
   "metadata": {},
   "source": [
    "# Summary"
   ]
  },
  {
   "cell_type": "markdown",
   "id": "304e15d8",
   "metadata": {},
   "source": [
    "  Here we have data of past 30 years of animal bytes. By analysing and visualizing the data we conclude:\n",
    "1. Most number of animal bites happened in the year 2012.\n",
    "2. Most animal bites took place in the month of may\n",
    "2. Most number of animal bites are done by dog.\n",
    "3. Most of the animals bitten are male\n",
    "4. Most of the bites took place on body"
   ]
  },
  {
   "cell_type": "code",
   "execution_count": null,
   "id": "8b4ea4da",
   "metadata": {},
   "outputs": [],
   "source": []
  }
 ],
 "metadata": {
  "kernelspec": {
   "display_name": "Python 3 (ipykernel)",
   "language": "python",
   "name": "python3"
  },
  "language_info": {
   "codemirror_mode": {
    "name": "ipython",
    "version": 3
   },
   "file_extension": ".py",
   "mimetype": "text/x-python",
   "name": "python",
   "nbconvert_exporter": "python",
   "pygments_lexer": "ipython3",
   "version": "3.9.7"
  }
 },
 "nbformat": 4,
 "nbformat_minor": 5
}
